{
 "cells": [
  {
   "cell_type": "markdown",
   "metadata": {},
   "source": [
    "# Chapitre 2 : Premiers pas avec Scikit-learn avec le dataset Iris\n",
    "Email : <a href='mailto:madani.a@ucd.ac.ma'>madani.a@ucd.ac.ma</a>\n",
    "<img src='images/robot.png'>\n",
    "## Introduction\n",
    "<p>\n",
    "Scikit-learn fournit un environnement riche avec des implémentations de pointe de nombreux algorithmes de machine learning bien connus, tout en maintenant une interface étroitement intégrée au langage Python et facile à utiliser. Pour commencer avec scikit-learn, visitez http://scikit-learn.org/stable/index.html.\n",
    "</p>\n",
    "<p>\n",
    "Pour faire de l’entrainement, scikit-learn intègre plusieurs datasets (ensemble de données de test). Un exemple des datasets les plus utilisé est celui qui correspond aux espèces de fleurs d'iris (voir http://scikit-learn.org/stable/auto_examples/datasets/plot_iris_dataset.html). Les données comprennent les caractéristiques des fleurs Iris: longueur du sépale en cm, largeur du sépale en cm, longueur du pétale en cm et largeur du pétale. Les classes cibles à prédire sont l'iris setosa, l'iris versicolour et la virginica.\n",
    "</p>\n",
    "<img src=\"images/iris.png\">\n",
    "<p>\n",
    "Le dataset Iris, composé de 150 échantillons (samples, exemples) et 4 caractéristiques (features). On peut alors la représenter comme une matrice 150 x 4, comme le montre la figure ci-dessous :\n",
    "</p>\n",
    "<img src=\"images/matrice.png\">\n",
    "<p>\n",
    "De la même manière, le vecteur de classes (labels) peut être représenté comme-suit :\n",
    "</p>\n",
    "<img src=\"images/labels.png\">\n",
    "<p>\n",
    "Puisque le machine learning génère des modèles à partir de données, nous commencerons par voir comment les données peuvent être représentées pour être comprises par l'ordinateur.\n",
    "</p>\n",
    "<p>\n",
    "La plupart des algorithmes de machine learning mis en œuvre dans scikit-learn s'attendent à ce que les données soient stockées dans un tableau bidimensionnel ou dans une matrice. Les tableaux peuvent être des tableaux numpy ou, dans certains cas, des matrices scipy.sparse. La taille du tableau devrait être [n<sub>samples</sub>, n<sub>features</sub>] avec:\n",
    "</p>\n",
    "<p>\n",
    "<ul>\n",
    "<li><b>n<sub>samples</sub> :</b> indique le nombre d'échantillons (nombres d’exemples). Chaque échantillon est un élément à traiter (par exemple, classifier). Un échantillon peut être un document, une image, un son, une vidéo, un objet astronomique, une ligne dans une base de données ou un fichier CSV, ou tout ce que vous pouvez décrire avec un ensemble fixe de traits quantitatifs.</li>\n",
    "\n",
    "<li><b>n<sub>features</sub> :</b> indique le nombre de features (caractéristiques) ou de labels distincts qui peuvent être utilisés pour décrire chaque élément d'une manière quantitative. Les features sont généralement réelles, mais peuvent être booléennes ou discrètes dans certains cas. Le nombre de features doit être fixé à l'avance. Cependant, il peut être très élevé (par exemple des millions de features), la plupart d'entre eux étant des zéros pour un échantillon donné. Dans ce cas, les matrices scipy sparse sont plus efficaces en mémoire que les matrices numpy.</li>\n",
    "</ul>\n",
    "</p>\n",
    "<p>\n",
    "Quel que soit le classificateur, scikit-learn propose certaines méthodes communes pour traiter les données:\n",
    "</p>\n",
    "<p>\n",
    "<ul>\n",
    "<li><b>model.fit () :</b> fait l'entraînement du modèle. Pour les applications d'apprentissage supervisé, il accepte deux arguments : les données X et les étiquettes y (par exemple model.fit (X, y)). Pour les applications d'apprentissage non supervisées, il n'accepte qu'un seul argument, la donnée X (par exemple model.fit (X)).</li>\n",
    "\n",
    "<li><b>model.predict () :</b> à partir d’un modèle entraîné, cette fonction sert à prédire la classe (label) d'une nouvelle données. Cette méthode accepte un argument, la nouvelle donnée X_new (par exemple model.predict (X_new)), et renvoie la classe correspondante.</li>\n",
    "\n",
    "<li><b>model.predict_proba () :</b> Pour les problèmes de classification, certains estimateurs fournissent également cette méthode, qui renvoie la probabilité qu'une nouvelle observation appartient à une catégorique donnée. Dans ce cas, la classe avec la plus grande probabilité est retournée par model.predict ().</li>\n",
    "\n",
    "<li><b>model.score () : </b> Pour les problèmes de classification ou de régression, la plupart des estimateurs implémentent une méthode de score. Les scores sont compris entre 0 et 1. Un score plus élevé indique un meilleur ajustement.</li>\n",
    "</ul>\n",
    "</p>\n",
    "<p>"
   ]
  },
  {
   "cell_type": "markdown",
   "metadata": {},
   "source": [
    "## Manipuler le dataset Iris avec Scikit-learn"
   ]
  },
  {
   "cell_type": "markdown",
   "metadata": {},
   "source": [
    "Maintenant que nous avons vu la structure des données du dataset <strong>Iris</strong>, passons à quelques opérations de manipulation de ce dataset en utilisant Scikit-learn de Python :"
   ]
  },
  {
   "cell_type": "code",
   "execution_count": 2,
   "metadata": {},
   "outputs": [],
   "source": [
    "# importer la fonction load_iris à partir du module datasets\n",
    "from sklearn.datasets import load_iris"
   ]
  },
  {
   "cell_type": "code",
   "execution_count": 3,
   "metadata": {},
   "outputs": [
    {
     "data": {
      "text/plain": [
       "sklearn.utils.Bunch"
      ]
     },
     "execution_count": 3,
     "metadata": {},
     "output_type": "execute_result"
    }
   ],
   "source": [
    "# Sauvegarder les données dans un objet iris\n",
    "iris = load_iris()\n",
    "type(iris)"
   ]
  },
  {
   "cell_type": "code",
   "execution_count": 8,
   "metadata": {},
   "outputs": [
    {
     "name": "stdout",
     "output_type": "stream",
     "text": [
      "(150, 4)\n"
     ]
    }
   ],
   "source": [
    "# afficher les données de iris\n",
    "print(iris.data.shape)"
   ]
  },
  {
   "cell_type": "markdown",
   "metadata": {},
   "source": [
    "Le dataset ainsi chargé est constituée de 150 exemples, chacun possède 4 caractéristiques. Il est représenté par une matrice 150 x 4 :\n",
    "<ul>\n",
    "<li>chaque ligne est une observation (connue aussi sous le nom : sample, example, instance, record)</li>\n",
    "<li>Chaque colonne est une caractéristique (connue aussi sous le nom : feature predictor, attribute, independent variable, input, regressor, covariate)</li>\n",
    "</ul>"
   ]
  },
  {
   "cell_type": "code",
   "execution_count": 7,
   "metadata": {},
   "outputs": [
    {
     "name": "stdout",
     "output_type": "stream",
     "text": [
      "['sepal length (cm)', 'sepal width (cm)', 'petal length (cm)', 'petal width (cm)']\n"
     ]
    }
   ],
   "source": [
    "# afficher les noms des quatres features\n",
    "print(iris.feature_names)"
   ]
  },
  {
   "cell_type": "code",
   "execution_count": 9,
   "metadata": {},
   "outputs": [
    {
     "name": "stdout",
     "output_type": "stream",
     "text": [
      "[0 0 0 0 0 0 0 0 0 0 0 0 0 0 0 0 0 0 0 0 0 0 0 0 0 0 0 0 0 0 0 0 0 0 0 0 0\n",
      " 0 0 0 0 0 0 0 0 0 0 0 0 0 1 1 1 1 1 1 1 1 1 1 1 1 1 1 1 1 1 1 1 1 1 1 1 1\n",
      " 1 1 1 1 1 1 1 1 1 1 1 1 1 1 1 1 1 1 1 1 1 1 1 1 1 1 2 2 2 2 2 2 2 2 2 2 2\n",
      " 2 2 2 2 2 2 2 2 2 2 2 2 2 2 2 2 2 2 2 2 2 2 2 2 2 2 2 2 2 2 2 2 2 2 2 2 2\n",
      " 2 2]\n",
      "['setosa' 'versicolor' 'virginica']\n"
     ]
    }
   ],
   "source": [
    "# afficher les entiers représentant les espèces de chaque observation\n",
    "print(iris.target)# afficher le code de chaque espèce : 0 = setosa, 1 = versicolor, 2 = virginica\n",
    "print(iris.target_names)"
   ]
  },
  {
   "cell_type": "markdown",
   "metadata": {},
   "source": [
    "### Remarques\n",
    "Les conditions requises pour travailler avec des données dans scikit-learn : \n",
    "<ol>\n",
    "<li>Les features et les classes sont des objets séparés</li>\n",
    "<li>Les features et les classes doivent être numériques</li>\n",
    "<li>Les features et les classes doivent être des tableaux NumPy</li>\n",
    "<li>Les features et les classes doivent avoir des formes spécifiques</li>\n",
    "</ol>"
   ]
  },
  {
   "cell_type": "code",
   "execution_count": 10,
   "metadata": {},
   "outputs": [
    {
     "name": "stdout",
     "output_type": "stream",
     "text": [
      "<class 'numpy.ndarray'>\n",
      "<class 'numpy.ndarray'>\n"
     ]
    }
   ],
   "source": [
    "# afficher le type chaque feature et chaque classe\n",
    "print(type(iris.data))\n",
    "print(type(iris.target))"
   ]
  },
  {
   "cell_type": "code",
   "execution_count": 11,
   "metadata": {},
   "outputs": [
    {
     "name": "stdout",
     "output_type": "stream",
     "text": [
      "(150, 4)\n"
     ]
    }
   ],
   "source": [
    "# la structure (forme) des features (première dimension = nombre d'observations, deuxième dimension = nombre de features)\n",
    "print(iris.data.shape)"
   ]
  },
  {
   "cell_type": "code",
   "execution_count": 12,
   "metadata": {},
   "outputs": [
    {
     "name": "stdout",
     "output_type": "stream",
     "text": [
      "(150,)\n"
     ]
    }
   ],
   "source": [
    "# la structure (forme) des classes (vecteur contenant les classes des observations)\n",
    "print(iris.target.shape)"
   ]
  },
  {
   "cell_type": "code",
   "execution_count": null,
   "metadata": {
    "collapsed": true
   },
   "outputs": [],
   "source": [
    "# stocker la matrice des features dans \"X\"\n",
    "X = iris.data\n",
    "print(X)\n",
    "\n",
    "# stocker le vecteur de classes dans \"y\"\n",
    "y = iris.target\n",
    "print(y)"
   ]
  }
 ],
 "metadata": {
  "kernelspec": {
   "display_name": "Python 3",
   "language": "python",
   "name": "python3"
  },
  "language_info": {
   "codemirror_mode": {
    "name": "ipython",
    "version": 3
   },
   "file_extension": ".py",
   "mimetype": "text/x-python",
   "name": "python",
   "nbconvert_exporter": "python",
   "pygments_lexer": "ipython3",
   "version": "3.8.3"
  }
 },
 "nbformat": 4,
 "nbformat_minor": 2
}
